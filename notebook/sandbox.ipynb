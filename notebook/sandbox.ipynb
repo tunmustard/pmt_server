{
 "cells": [
  {
   "cell_type": "code",
   "execution_count": 77,
   "metadata": {
    "scrolled": true
   },
   "outputs": [],
   "source": []
  },
  {
   "cell_type": "code",
   "execution_count": null,
   "metadata": {},
   "outputs": [],
   "source": [
    "\n",
    "        "
   ]
  },
  {
   "cell_type": "code",
   "execution_count": null,
   "metadata": {},
   "outputs": [],
   "source": []
  },
  {
   "cell_type": "code",
   "execution_count": null,
   "metadata": {},
   "outputs": [],
   "source": []
  },
  {
   "cell_type": "code",
   "execution_count": null,
   "metadata": {},
   "outputs": [],
   "source": []
  },
  {
   "cell_type": "code",
   "execution_count": null,
   "metadata": {
    "scrolled": true
   },
   "outputs": [],
   "source": []
  },
  {
   "cell_type": "code",
   "execution_count": 68,
   "metadata": {},
   "outputs": [
    {
     "name": "stdout",
     "output_type": "stream",
     "text": [
      "Configuration file successfully loaded\n",
      "Configuration file successfully loaded\n",
      "Sending message --->>> to anton.tushev@primetals.com\n",
      "{}\n",
      "Sending message --->>> to anton.tushev@primetals.com\n",
      "{}\n"
     ]
    }
   ],
   "source": [
    "import smtplib\n",
    "from email.mime.multipart import MIMEMultipart\n",
    "from email.mime.text import MIMEText\n",
    "from jinja2 import Environment, FileSystemLoader\n",
    "import time\n",
    "\n",
    "#for mail templates generator\n",
    "file_loader = FileSystemLoader('templates')\n",
    "env = Environment(loader=file_loader,autoescape=select_autoescape(['html', 'xml']))\n",
    "\n",
    "path_config = \"../internal/config.txt\"\n",
    "path_config_pt = \"../internal/config_pt.txt\"\n",
    "path_config_gl = \"../internal/config_gl.txt\"\n",
    "\n",
    "#####options importing script\n",
    "def get_options(file=path_config,convert_bool=False):\n",
    "    out = {}\n",
    "    with open(file, 'r', encoding='utf-8') as infile:\n",
    "        for line in infile:\n",
    "            split_line = line.split()\n",
    "            try:\n",
    "                if split_line[0][0]!=\"#\":\n",
    "                    out[split_line[0]]=split_line[1]\n",
    "                else:\n",
    "                    pass\n",
    "            except IndexError:\n",
    "                pass\n",
    "        if convert_bool:\n",
    "            out={k:v in ['1'] for k,v in out.items()}\n",
    "        print(\"Configuration file successfully loaded\")\n",
    "    return out\n",
    "\n",
    "#####options importing script\n",
    "global_options = get_options(path_config,convert_bool=True)\n",
    "if global_options['location_pmt']:\n",
    "    global_options.update(get_options(path_config_pt))\n",
    "else:\n",
    "    global_options.update(get_options(path_config_gl))\n",
    "    \n",
    "#for comfortability\n",
    "global_options['smtp_port']=int(global_options['smtp_port'])\n",
    "\n",
    "\n",
    "##Send mail by smtp server\n",
    "def smtp_send_mail(mail_from,mail_to,message,subject=\"\",fromaddr=global_options['smtp_accname'],toaddr=\"\",cc=\"\"):\n",
    "    #prepare message\n",
    "    print('Sending message --->>> to %s'%mail_to)\n",
    "    msg = MIMEMultipart()\n",
    "    msg['From'] = fromaddr\n",
    "    msg['To'] = toaddr\n",
    "    msg['Cc'] = ', '.join(cc)\n",
    "    msgHtml = MIMEText(message, 'html')\n",
    "    msg.attach(msgHtml)\n",
    "    msg['Subject'] = subject\n",
    "    #sending message\n",
    "    mailserver = smtplib.SMTP(global_options['smtp_server'],global_options['smtp_port'])\n",
    "    mailserver.ehlo()\n",
    "    mailserver.starttls()\n",
    "    mailserver.login(global_options['smtp_accname'], global_options['smtp_accpass'])\n",
    "    print(mailserver.sendmail(mail_from,mail_to,msg.as_string()))\n",
    "    mailserver.quit()\n",
    "\n",
    "#generating mail template\n",
    "template = env.get_template('index.html')\n",
    "#msg = template.render(tmp_var='Generated txt')  \n",
    " \n",
    "#smtp_send_mail('pmtseverinfo@gmail.com','tunmustard@gmail.com',msg,'Next message ','pmtseverinfo@gmail.com','tunmustard@gmail.com',['tunmustard@gmail.com'])\n",
    "\n",
    "for k in range(2):\n",
    "    msg = template.render(tmp_var=time.ctime())\n",
    "    time.sleep(2)\n",
    "    smtp_send_mail(global_options['smtp_accname'],global_options['smtp_accname'],msg,'Next message ',global_options['smtp_accname'],'tunmustard@gmail.com',['tunmustard@gmail.com'])"
   ]
  },
  {
   "cell_type": "code",
   "execution_count": 59,
   "metadata": {},
   "outputs": [
    {
     "data": {
      "text/plain": [
       "'a'"
      ]
     },
     "execution_count": 59,
     "metadata": {},
     "output_type": "execute_result"
    }
   ],
   "source": [
    "\n",
    ")\n"
   ]
  },
  {
   "cell_type": "code",
   "execution_count": 18,
   "metadata": {},
   "outputs": [],
   "source": []
  }
 ],
 "metadata": {
  "kernelspec": {
   "display_name": "Python 3",
   "language": "python",
   "name": "python3"
  },
  "language_info": {
   "codemirror_mode": {
    "name": "ipython",
    "version": 3
   },
   "file_extension": ".py",
   "mimetype": "text/x-python",
   "name": "python",
   "nbconvert_exporter": "python",
   "pygments_lexer": "ipython3",
   "version": "3.5.2"
  }
 },
 "nbformat": 4,
 "nbformat_minor": 2
}
